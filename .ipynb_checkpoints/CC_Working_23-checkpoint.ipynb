{
 "cells": [
  {
   "cell_type": "code",
   "execution_count": 1,
   "id": "2b8fe67f",
   "metadata": {},
   "outputs": [],
   "source": [
    "#import packages\n",
    "import numpy as np\n",
    "import matplotlib\n",
    "import pandas as pd\n",
    "import matplotlib.pyplot as plt\n",
    "import seaborn as sns"
   ]
  },
  {
   "cell_type": "markdown",
   "id": "cdaabcd6",
   "metadata": {},
   "source": [
    "Overview of the project\n",
    "\n",
    "Through this project, we aim to build a prediction based model which classifies space objects.\n"
   ]
  },
  {
   "cell_type": "markdown",
   "id": "4ae77cd7",
   "metadata": {},
   "source": [
    "The next step is to put the datasets in the jupyter notebook"
   ]
  },
  {
   "cell_type": "code",
   "execution_count": 6,
   "id": "824f44f3",
   "metadata": {},
   "outputs": [],
   "source": [
    "#Acquiring the tables and putting them in data frames\n",
    "amor_asteroids = pd.read_csv(\"amor-asteroids.csv\")\n",
    "apollo_asteroids = pd.read_csv(\"apollo-asteroids.csv\")\n",
    "aten_asteroids = pd.read_csv(\"aten-asteroids.csv\")\n",
    "atira_asteroids = pd.read_csv(\"atira-asteroids.csv\")\n",
    "centaur_objects = pd.read_csv(\"centaur-objects.csv\")\n",
    "comets = pd.read_csv(\"comets.csv\")\n",
    "hyperbolic_asteroids = pd.read_csv(\"hyperbolic-asteroids.csv\")\n",
    "inner_main_belt = pd.read_csv(\"inner-main-belt-asteroids.csv\")\n",
    "jupiter_trojan_asteroids = pd.read_csv(\"jupiter-trojan-asteroids.csv\")\n",
    "mars_crossin_asteroids = pd.read_csv(\"mars-crossing-asteroids.csv\")\n",
    "other_asteroids = pd.read_csv(\"other-asteroids.csv\")\n",
    "outer_main_belt_asteroids = pd.read_csv(\"outer-main-belt-asteroids.csv\")\n",
    "trans_neptunian_objects = pd.read_csv(\"trans-neptunian-objects.csv\")"
   ]
  },
  {
   "cell_type": "code",
   "execution_count": null,
   "id": "fa505692",
   "metadata": {},
   "outputs": [],
   "source": []
  },
  {
   "cell_type": "code",
   "execution_count": null,
   "id": "0ef561d2",
   "metadata": {},
   "outputs": [],
   "source": []
  }
 ],
 "metadata": {
  "kernelspec": {
   "display_name": "Python 3 (ipykernel)",
   "language": "python",
   "name": "python3"
  },
  "language_info": {
   "codemirror_mode": {
    "name": "ipython",
    "version": 3
   },
   "file_extension": ".py",
   "mimetype": "text/x-python",
   "name": "python",
   "nbconvert_exporter": "python",
   "pygments_lexer": "ipython3",
   "version": "3.11.4"
  }
 },
 "nbformat": 4,
 "nbformat_minor": 5
}
